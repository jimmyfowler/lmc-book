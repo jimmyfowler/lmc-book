{
 "cells": [
  {
   "cell_type": "markdown",
   "metadata": {},
   "source": [
    "# CLF controller"
   ]
  },
  {
   "cell_type": "code",
   "execution_count": null,
   "metadata": {},
   "outputs": [
    {
     "name": "stderr",
     "output_type": "stream",
     "text": [
      "/opt/homebrew/Cellar/python@3.12/3.12.9/Frameworks/Python.framework/Versions/3.12/lib/python3.12/pty.py:95: RuntimeWarning: os.fork() was called. os.fork() is incompatible with multithreaded code, and JAX is multithreaded, so this will likely lead to a deadlock.\n",
      "  pid, fd = os.forkpty()\n"
     ]
    },
    {
     "name": "stdout",
     "output_type": "stream",
     "text": [
      "Requirement already satisfied: dynamaxsys in /Users/karen/repos/dynamaxsys (0.0.4)\n",
      "Requirement already satisfied: jax in /Users/karen/venvs/test/lib/python3.12/site-packages (from dynamaxsys) (0.4.30)\n",
      "Requirement already satisfied: numpy in /Users/karen/venvs/test/lib/python3.12/site-packages (from dynamaxsys) (2.0.0)\n",
      "Requirement already satisfied: jaxlib<=0.4.30,>=0.4.27 in /Users/karen/venvs/test/lib/python3.12/site-packages (from jax->dynamaxsys) (0.4.30)\n",
      "Requirement already satisfied: ml-dtypes>=0.2.0 in /Users/karen/venvs/test/lib/python3.12/site-packages (from jax->dynamaxsys) (0.4.0)\n",
      "Requirement already satisfied: opt-einsum in /Users/karen/venvs/test/lib/python3.12/site-packages (from jax->dynamaxsys) (3.3.0)\n",
      "Requirement already satisfied: scipy>=1.9 in /Users/karen/venvs/test/lib/python3.12/site-packages (from jax->dynamaxsys) (1.14.0)\n",
      "\n",
      "\u001b[1m[\u001b[0m\u001b[34;49mnotice\u001b[0m\u001b[1;39;49m]\u001b[0m\u001b[39;49m A new release of pip is available: \u001b[0m\u001b[31;49m24.1.2\u001b[0m\u001b[39;49m -> \u001b[0m\u001b[32;49m25.1\u001b[0m\n",
      "\u001b[1m[\u001b[0m\u001b[34;49mnotice\u001b[0m\u001b[1;39;49m]\u001b[0m\u001b[39;49m To update, run: \u001b[0m\u001b[32;49mpip install --upgrade pip\u001b[0m\n",
      "Requirement already satisfied: cbfax in /Users/karen/venvs/test/lib/python3.12/site-packages (0.0.1)\n",
      "Requirement already satisfied: jax in /Users/karen/venvs/test/lib/python3.12/site-packages (from cbfax) (0.4.30)\n",
      "Requirement already satisfied: matplotlib in /Users/karen/venvs/test/lib/python3.12/site-packages (from cbfax) (3.9.1)\n",
      "Requirement already satisfied: numpy in /Users/karen/venvs/test/lib/python3.12/site-packages (from cbfax) (2.0.0)\n",
      "Requirement already satisfied: jaxlib<=0.4.30,>=0.4.27 in /Users/karen/venvs/test/lib/python3.12/site-packages (from jax->cbfax) (0.4.30)\n",
      "Requirement already satisfied: ml-dtypes>=0.2.0 in /Users/karen/venvs/test/lib/python3.12/site-packages (from jax->cbfax) (0.4.0)\n",
      "Requirement already satisfied: opt-einsum in /Users/karen/venvs/test/lib/python3.12/site-packages (from jax->cbfax) (3.3.0)\n",
      "Requirement already satisfied: scipy>=1.9 in /Users/karen/venvs/test/lib/python3.12/site-packages (from jax->cbfax) (1.14.0)\n",
      "Requirement already satisfied: contourpy>=1.0.1 in /Users/karen/venvs/test/lib/python3.12/site-packages (from matplotlib->cbfax) (1.2.1)\n",
      "Requirement already satisfied: cycler>=0.10 in /Users/karen/venvs/test/lib/python3.12/site-packages (from matplotlib->cbfax) (0.12.1)\n",
      "Requirement already satisfied: fonttools>=4.22.0 in /Users/karen/venvs/test/lib/python3.12/site-packages (from matplotlib->cbfax) (4.53.1)\n",
      "Requirement already satisfied: kiwisolver>=1.3.1 in /Users/karen/venvs/test/lib/python3.12/site-packages (from matplotlib->cbfax) (1.4.5)\n",
      "Requirement already satisfied: packaging>=20.0 in /Users/karen/venvs/test/lib/python3.12/site-packages (from matplotlib->cbfax) (24.1)\n",
      "Requirement already satisfied: pillow>=8 in /Users/karen/venvs/test/lib/python3.12/site-packages (from matplotlib->cbfax) (10.4.0)\n",
      "Requirement already satisfied: pyparsing>=2.3.1 in /Users/karen/venvs/test/lib/python3.12/site-packages (from matplotlib->cbfax) (3.1.2)\n",
      "Requirement already satisfied: python-dateutil>=2.7 in /Users/karen/venvs/test/lib/python3.12/site-packages (from matplotlib->cbfax) (2.9.0.post0)\n",
      "Requirement already satisfied: six>=1.5 in /Users/karen/venvs/test/lib/python3.12/site-packages (from python-dateutil>=2.7->matplotlib->cbfax) (1.16.0)\n",
      "\n",
      "\u001b[1m[\u001b[0m\u001b[34;49mnotice\u001b[0m\u001b[1;39;49m]\u001b[0m\u001b[39;49m A new release of pip is available: \u001b[0m\u001b[31;49m24.1.2\u001b[0m\u001b[39;49m -> \u001b[0m\u001b[32;49m25.1\u001b[0m\n",
      "\u001b[1m[\u001b[0m\u001b[34;49mnotice\u001b[0m\u001b[1;39;49m]\u001b[0m\u001b[39;49m To update, run: \u001b[0m\u001b[32;49mpip install --upgrade pip\u001b[0m\n"
     ]
    }
   ],
   "source": [
    "!pip install dynamaxsys\n",
    "!pip install cbfax"
   ]
  },
  {
   "cell_type": "code",
   "execution_count": 14,
   "metadata": {},
   "outputs": [],
   "source": [
    "from dynamaxsys.unicycle import Unicycle\n",
    "from dynamaxsys.base import get_discrete_time_dynamics\n",
    "from cbfax.cbf import get_cbf_constraint_rd1\n",
    "from cbfax.plotting import plot_halfspace\n",
    "import jax\n",
    "import jax.numpy as jnp\n",
    "from ipywidgets import interact\n",
    "import matplotlib.pyplot as plt\n",
    "from matplotlib.patches import Rectangle\n",
    "import functools\n",
    "import numpy as np\n"
   ]
  },
  {
   "cell_type": "code",
   "execution_count": 15,
   "metadata": {},
   "outputs": [],
   "source": [
    "def rotate_vector_ccw(vector, theta):\n",
    "    return jnp.array([[jnp.cos(theta), -jnp.sin(theta)],\n",
    "                     [jnp.sin(theta), jnp.cos(theta)]]) @ vector\n",
    "    \n",
    "def plot_car(ax, state, car_length=0.5, car_width=0.3, color='lightskyblue', alpha=0.6):\n",
    "    pos = state[:2]\n",
    "    theta = state[2]\n",
    "    left_corner = pos + rotate_vector_ccw(0.5 * jnp.array([-car_length, -car_width]), theta)\n",
    "    car = Rectangle(left_corner, car_length, car_width, angle=theta * 180 / jnp.pi, color=color, alpha=alpha)\n",
    "    ax.add_patch(car)\n",
    "    v_vector = jnp.stack([pos, pos + 3 * car_length / 4 * jnp.array([np.cos(theta), np.sin(theta)])])\n",
    "    ax.plot(v_vector[:,0], v_vector[:,1])\n",
    "    return ax"
   ]
  },
  {
   "cell_type": "code",
   "execution_count": 16,
   "metadata": {},
   "outputs": [],
   "source": [
    "dynamics = Unicycle()"
   ]
  },
  {
   "cell_type": "markdown",
   "metadata": {},
   "source": [
    "#### Defining CLF\n",
    "\n",
    "$V_1(x, y, \\theta) = (x - x_g)^2 + (y - y_g)^2$ \n",
    "\n",
    "$V_2(x, y, \\theta) = \\left[\\theta - \\arctan\\left( \\frac{y_g - y}{x_g - x}\\right)\\right]^2$"
   ]
  },
  {
   "cell_type": "code",
   "execution_count": 17,
   "metadata": {},
   "outputs": [],
   "source": [
    "goal_state = jnp.array([2.5, 0., 0.])\n",
    "\n",
    "\n",
    "def V1(state, goal_state):\n",
    "    x, y, theta = state\n",
    "    xg, yg, _ = goal_state\n",
    "    return (x - xg)**2 + (y - yg)**2\n",
    "\n",
    "def V2(state, goal_state):\n",
    "    x, y, theta = state\n",
    "    xg, yg, _ = goal_state\n",
    "    return (theta - jnp.arctan2(yg - y, xg - x))**2\n",
    "\n",
    "def clfs(state, goal_state):\n",
    "    return V1(state, goal_state), V2(state, goal_state)\n",
    "\n",
    "\n",
    "\n",
    "v1 = functools.partial(V1, goal_state=goal_state)\n",
    "v2 = functools.partial(V2, goal_state=goal_state)\n"
   ]
  },
  {
   "cell_type": "code",
   "execution_count": 18,
   "metadata": {},
   "outputs": [],
   "source": [
    "# plotting set up\n",
    "lim_value = 4\n",
    "grid_points_N = 101\n",
    "grid_points = jnp.linspace(-lim_value, lim_value, grid_points_N)\n",
    "theta_points = jnp.linspace(-jnp.pi, jnp.pi, grid_points_N)\n",
    "X, Y, THETA = jnp.meshgrid(grid_points, grid_points, theta_points)\n",
    "batched_states = jnp.concatenate([X.reshape(-1,1), Y.reshape(-1,1), THETA.reshape(-1,1)], 1)\n",
    "clf_values_grid = jax.vmap(clfs, [0, None])(batched_states, goal_state)\n",
    "xmin = -3\n",
    "xmax = 3\n",
    "ymin = -3\n",
    "ymax = 3\n"
   ]
  },
  {
   "cell_type": "code",
   "execution_count": 19,
   "metadata": {
    "scrolled": false
   },
   "outputs": [
    {
     "data": {
      "application/vnd.jupyter.widget-view+json": {
       "model_id": "72ba7d941bb449ec91c95b2ee87fa99c",
       "version_major": 2,
       "version_minor": 0
      },
      "text/plain": [
       "interactive(children=(FloatSlider(value=0.0, description='x', max=3.0, min=-3.0), FloatSlider(value=0.0, descr…"
      ]
     },
     "metadata": {},
     "output_type": "display_data"
    }
   ],
   "source": [
    "time = 0.\n",
    "def alpha(x):\n",
    "    return 0.\n",
    "@interact(x=(xmin, xmax, 0.1),\n",
    "              y=(ymin, ymax, 0.1), \n",
    "              theta_i=(0, grid_points_N-1))\n",
    "def foo(x, y, theta_i):\n",
    "    theta = theta_points[theta_i]\n",
    "    state = jnp.array([x, y, theta])\n",
    "    # fig, axs = plt.subplots(1,3,figsize=(18,4))\n",
    "    plt.figure(figsize=(18,4))\n",
    "    for i in range(2):\n",
    "        plt.subplot(1, 3, i+1)\n",
    "        ax = plt.gca()\n",
    "        plt.contourf(X[:,:,theta_i], Y[:,:,theta_i], clf_values_grid[i].reshape(grid_points_N, grid_points_N, grid_points_N)[:,:,theta_i], 20, alpha=0.6, cmap=\"jet\")\n",
    "        plt.colorbar()\n",
    "        plot_car(ax, state)\n",
    "        ax.set_title(\"CLF %i\"%(i+1))\n",
    "        ax.axis(\"equal\")\n",
    "        ax.set_xlim([xmin, xmax])\n",
    "        ax.set_ylim([ymin, ymax])\n",
    "        ax.grid()\n",
    "\n",
    "    ax = plt.subplot(1, 3, 3)\n",
    "    linear, constant = get_cbf_constraint_rd1(state, time, v1, alpha, dynamics)\n",
    "    plot_halfspace(linear, constant, \"<=\", xlim=(xmin, xmax), ylim=(ymin, ymax))\n",
    "    \n",
    "    linear, constant = get_cbf_constraint_rd1(state, 0., v2, alpha, dynamics)\n",
    "    plot_halfspace(linear, constant, \"<=\", xlim=(xmin, xmax), ylim=(ymin, ymax))\n",
    "\n",
    "    ax.set_title(\"CLF Control Constraints\")\n",
    "    ax.set_xlim([xmin, xmax])\n",
    "    ax.set_ylim([ymin, ymax])\n",
    "    ax.grid()\n",
    "    ax.set_xlabel(\"v\")\n",
    "    ax.set_ylabel(\"$\\\\omega$\")\n",
    "    ax.axis(\"equal\")\n",
    "    "
   ]
  },
  {
   "cell_type": "markdown",
   "metadata": {},
   "source": [
    "### Naive (myopic) controller\n",
    "\n",
    "$z = [x, y, \\theta]^T$, $u=[v, \\omega]$,  $\\dot{z} = \\begin{bmatrix} v\\cos\\theta \\\\ v\\sin\\theta \\\\ \\omega\\end{bmatrix}  = \\begin{bmatrix} \\cos\\theta & 0 \\\\ \\sin\\theta & 0 \\\\ 0& 1\\end{bmatrix} \\begin{bmatrix} v \\\\ \\omega\\end{bmatrix}$\n",
    "\n",
    "$$\\min_{v, \\omega}   \\; (v - v_d)^2 + \\gamma\\omega^2$$\n",
    "$$\\text{s.t.} \\; \\nabla V_1(z)^T f(z, u) \\leq -\\beta V_1(z)$$\n",
    "$$ \\nabla V_2(z)^T f(z, u) \\leq -\\beta V_2(z)$$"
   ]
  },
  {
   "cell_type": "code",
   "execution_count": 20,
   "metadata": {},
   "outputs": [],
   "source": [
    "import cvxpy as cp"
   ]
  },
  {
   "cell_type": "code",
   "execution_count": 21,
   "metadata": {},
   "outputs": [],
   "source": [
    "m = 2\n",
    "vd = 0.5\n",
    "gamma = 0.05\n",
    "beta = 0.\n",
    "\n",
    "\n",
    "u = cp.Variable(m)\n",
    "dV1 = cp.Parameter(m) \n",
    "dV2 = cp.Parameter(m) \n",
    "c1 = cp.Parameter(1) \n",
    "c2 = cp.Parameter(1) \n",
    "ep1 = cp.Variable(1)\n",
    "ep2 = cp.Variable(1)\n",
    "\n",
    "obj = cp.Minimize( (u[0] - vd)**2 + gamma * u[1]**2 + 1000 * (ep1**2 + ep2**2))\n",
    "constraints = [dV1 @ u + c1 <= ep1,\n",
    "               dV2 @ u + c1 <= ep2, \n",
    "               ep1 >= 0, ep2 >= 0,]\n",
    "prob = cp.Problem(obj, constraints)\n"
   ]
  },
  {
   "cell_type": "code",
   "execution_count": 22,
   "metadata": {},
   "outputs": [
    {
     "name": "stdout",
     "output_type": "stream",
     "text": [
      "reached goal!!\n"
     ]
    }
   ],
   "source": [
    "dt = 0.1\n",
    "T_max = int(20 / dt)\n",
    "discrete_dynamics = get_discrete_time_dynamics(dynamics, dt=dt)\n",
    "\n",
    "state0 = jnp.array([-3., 2., -np.pi/4])\n",
    "states = [state0]\n",
    "controls = []\n",
    "\n",
    "def alpha1(x):\n",
    "    return beta * x\n",
    "def alpha2(x):\n",
    "    return 0.1 * x\n",
    "\n",
    "for t in range(T_max):\n",
    "    state = states[t]\n",
    "    dV1_val, c1_val = get_cbf_constraint_rd1(state, time, v1, alpha1, dynamics)\n",
    "    dV2_val, c2_val = get_cbf_constraint_rd1(state, time, v2, alpha2, dynamics)\n",
    "    \n",
    "    dV1.project_and_assign(dV1_val)\n",
    "    dV2.project_and_assign(dV2_val)\n",
    "    c1.project_and_assign(c1_val)\n",
    "    c2.project_and_assign(c2_val)\n",
    "    clf_value = min(v1(state), v2(state))\n",
    "    if clf_value < 1E-2:\n",
    "        print(\"reached goal!!\")\n",
    "        break\n",
    "    prob.solve()\n",
    "\n",
    "    # states.append(discrete_dynamics(state, u.value, 0.))\n",
    "    states.append(state + dynamics(state, u.value) * dt)\n",
    "    controls.append(u.value)\n",
    "states = jnp.stack(states)\n",
    "controls = jnp.stack(controls)\n",
    "clf_values = jax.vmap(clfs, [0, None])(states, goal_state)"
   ]
  },
  {
   "cell_type": "code",
   "execution_count": 23,
   "metadata": {},
   "outputs": [
    {
     "data": {
      "application/vnd.jupyter.widget-view+json": {
       "model_id": "4fe57afb4345404bb289fcdbd1f6d5cd",
       "version_major": 2,
       "version_minor": 0
      },
      "text/plain": [
       "interactive(children=(IntSlider(value=65, description='t', max=131), Output()), _dom_classes=('widget-interact…"
      ]
     },
     "metadata": {},
     "output_type": "display_data"
    }
   ],
   "source": [
    "@interact(t=(0, states.shape[0]-1))\n",
    "def foo(t):\n",
    "    state = states[t]\n",
    "    fig, axs = plt.subplots(1,3,figsize=(15,4))\n",
    "    theta_i = 0\n",
    "\n",
    "    ax = axs[0]\n",
    "    ax.plot(clf_values[0], color=\"blue\")\n",
    "    ax.plot(clf_values[0][:t], color=\"blue\", linewidth=5, label=\"CLF1\")\n",
    "    ax.plot(clf_values[1], color=\"red\")\n",
    "    ax.plot(clf_values[1][:t], color=\"red\", linewidth=5, label=\"CLF2\")\n",
    "    ax.grid()\n",
    "    ax.legend()\n",
    "    ax.set_title(\"CLF values\")\n",
    "\n",
    "    ax = axs[1]\n",
    "    ax.contourf(X[:,:,theta_i], Y[:,:,theta_i], clf_values_grid[0].reshape(grid_points_N, grid_points_N, grid_points_N)[:,:,theta_i], 20, alpha=0.6, cmap=\"gist_gray\")\n",
    "    plot_car(ax, state, alpha=1)\n",
    "    ax.set_title(\"X-Y position with CLF1 overlay\")\n",
    "    ax.axis(\"equal\")\n",
    "    ax.set_xlim([xmin, xmax])\n",
    "    ax.set_ylim([ymin, ymax])\n",
    "    ax.grid()\n",
    "    ax.plot(states[:t,0], states[:t,1], color=\"black\", linestyle=\"--\", label=\"trajectory\")\n",
    "    ax.scatter(goal_state[:1], goal_state[1:2], s=100, color=\"red\", label=\"goal\")\n",
    "    ax.legend(loc=\"upper left\")\n",
    "\n",
    "\n",
    "    ax = axs[2]\n",
    "    \n",
    "    linear, constant = get_cbf_constraint_rd1(state, time, v1, alpha, dynamics)\n",
    "    plot_halfspace(linear, constant, \"<=\", xlim=(xmin, xmax), ylim=(ymin, ymax))\n",
    "    \n",
    "    linear, constant = get_cbf_constraint_rd1(state, 0., v2, alpha, dynamics)\n",
    "    plot_halfspace(linear, constant, \"<=\", xlim=(xmin, xmax), ylim=(ymin, ymax))\n",
    "    \n",
    "    ax.scatter(controls[t:t+1,0], controls[t:t+1,1], color=\"blue\", zorder=4)\n",
    "    ax.axvline(vd, color=\"gray\", linestyle=\"--\")\n",
    "    ax.set_title(\"Control Constraints\")\n",
    "    # ax.set_xlim([xmin, xmax])\n",
    "    # ax.set_ylim([ymin, ymax])\n",
    "    ax.grid()\n",
    "    ax.set_xlabel(\"v\")\n",
    "    ax.set_ylabel(\"$\\\\omega$\")\n",
    "    \n",
    "    plt.tight_layout()\n"
   ]
  },
  {
   "cell_type": "code",
   "execution_count": null,
   "metadata": {},
   "outputs": [],
   "source": []
  },
  {
   "cell_type": "code",
   "execution_count": null,
   "metadata": {},
   "outputs": [],
   "source": []
  }
 ],
 "metadata": {
  "kernelspec": {
   "display_name": "test",
   "language": "python",
   "name": "python3"
  },
  "language_info": {
   "codemirror_mode": {
    "name": "ipython",
    "version": 3
   },
   "file_extension": ".py",
   "mimetype": "text/x-python",
   "name": "python",
   "nbconvert_exporter": "python",
   "pygments_lexer": "ipython3",
   "version": "3.12.9"
  }
 },
 "nbformat": 4,
 "nbformat_minor": 2
}
