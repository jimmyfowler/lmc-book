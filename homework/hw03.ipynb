{
 "cells": [
  {
   "cell_type": "markdown",
   "metadata": {},
   "source": [
    "# Homework 3\n",
    "\n"
   ]
  },
  {
   "cell_type": "markdown",
   "metadata": {},
   "source": [
    "### Project update\n",
    "\n",
    "In addition to the coding problems below, please submit a short project update.\n",
    "In this update, you should describe \n",
    "- Your progress so far. Are you on track given what you described in your proposal?\n",
    "- Any unexpected challenges you have facing and how you are adapting your project around that.\n",
    "- What remains to be done.\n",
    "- Any other updates or results you may want to share.\n",
    "\n",
    "Please submit this as a separate PDF as part of your homework submission.\n",
    "\n",
    "Excluding figures/tables, etc, this should be no more than 1 page."
   ]
  },
  {
   "cell_type": "markdown",
   "metadata": {},
   "source": [
    "### Instructions (Code problems)\n",
    "Download this jupyer notebook (button at the top of the page or download from the Github repository). Provide your answers as Markdown text, Python code, and/or produce plots as appropriate. The notebook should run all the cells in order without errors.  \n",
    "Submit both the `.ipynb` and a `.pdf` to Canvas.\n",
    "\n",
    "Make sure the `.pdf` has all the relevant outputs showing. To save as `.pdf` you can first export the notebook as `.html`, open it in a browers and then \"Print to PDF\". \n",
    "\n",
    "**NOTE:** As we will be sharing the files for peer grading, please keep your submission anonymous."
   ]
  },
  {
   "cell_type": "markdown",
   "metadata": {},
   "source": [
    "### Problem 1 (Extended Kalman Filter)"
   ]
  },
  {
   "cell_type": "markdown",
   "metadata": {},
   "source": [
    "Consider a unicycle model\n",
    "\n",
    "$$ \\dot{\\mathbf{x}} = \\begin{bmatrix} \\dot{x} \\\\ \\dot{y} \\\\ \\dot{\\theta} \\end{bmatrix} = \\begin{bmatrix} v\\cos\\theta \\\\ v\\sin\\theta \\\\ \\omega \\end{bmatrix}, \\qquad \\mathbf{u} = \\begin{bmatrix} v \\\\ \\omega \\end{bmatrix} $$\n",
    "\n",
    "Let the *discrete time* dynamics with Gaussian noise be given by the following.\n",
    "\n",
    "$$ \\mathbf{x}_{t+1} = f_d(\\mathbf{x}_t, \\mathbf{u}_t) + \\mathbf{w}_t, \\quad \\mathbf{w}_t \\sim \\mathcal{N}(0, Q) $$ \n",
    "\n",
    "where $\\mathbb{E}[\\mathbf{w}_t\\mathbf{w}_t^T] = Q$.\n",
    "\n",
    "Assume that we only obtain GPS position measurements of the robot. The measurement model is\n",
    "\n",
    "$$ \\mathbf{y}_t = \\begin{bmatrix} x_t\\\\ y_t \\end{bmatrix} + \\mathbf{v}_t $$ \n",
    "\n",
    "where $\\mathbb{E}[\\mathbf{v}_t\\mathbf{v}_t^T] = R$.\n"
   ]
  },
  {
   "cell_type": "markdown",
   "metadata": {},
   "source": [
    "In this problem, let $\\Delta t = 0.1$, $Q = \\mathrm{diag}([0.05, 0.05, 0.01])$, and $R=\\mathrm{diag}([2.0, 2.0])$. \n",
    "\n",
    "Suppose that at the beginning, our estimate of the initial state is $\\mathbf{x}_0 \\sim \\mathcal{N}(\\mu_0, \\Sigma_0)$ where $\\mu_0 = \\begin{bmatrix} -4.0\\\\ 4.0\\\\ \\frac{\\pi}{4} + 0.5 \\end{bmatrix}$, $\\Sigma_0 = \\mathrm{diag}([8., 8., 2.])$.\n",
    "During the episode, the robot is executing control inputs according to the control law: \n",
    "\n",
    "$$\\mathbf{u}_k = \\begin{bmatrix} 0.5\\sin(0.5t_k) + 1 \\\\ \\sin(t_k) \\end{bmatrix}.$$\n",
    "\n",
    "Let the *true* initial state of the system be $\\mathbf{x}_0^\\mathrm{true} = \\begin{bmatrix} 0.0\\\\ 0.0\\\\ \\frac{\\pi}{4} \\end{bmatrix}$.\n",
    "Note that in \"real life\" we don't the know the exact ground truth value of the robot's state, but in this problem, it is given so that you can compare your estimate and generate noisy measurements.\n",
    "\n",
    "In the following code cell, you will be required to implement an **Extended Kalman Filter**, and simulate the system (both the ground truth trajectory and the estimated trajectory)."
   ]
  },
  {
   "cell_type": "code",
   "execution_count": 1,
   "metadata": {},
   "outputs": [
    {
     "name": "stdout",
     "output_type": "stream",
     "text": [
      "Requirement already satisfied: dynamaxsys==0.0.5 in /Users/karen/repos/dynamaxsys (0.0.5)\n",
      "Requirement already satisfied: jax in /Users/karen/venvs/test/lib/python3.12/site-packages (from dynamaxsys==0.0.5) (0.4.30)\n",
      "Requirement already satisfied: numpy in /Users/karen/venvs/test/lib/python3.12/site-packages (from dynamaxsys==0.0.5) (2.0.0)\n",
      "Requirement already satisfied: jaxlib<=0.4.30,>=0.4.27 in /Users/karen/venvs/test/lib/python3.12/site-packages (from jax->dynamaxsys==0.0.5) (0.4.30)\n",
      "Requirement already satisfied: ml-dtypes>=0.2.0 in /Users/karen/venvs/test/lib/python3.12/site-packages (from jax->dynamaxsys==0.0.5) (0.4.0)\n",
      "Requirement already satisfied: opt-einsum in /Users/karen/venvs/test/lib/python3.12/site-packages (from jax->dynamaxsys==0.0.5) (3.3.0)\n",
      "Requirement already satisfied: scipy>=1.9 in /Users/karen/venvs/test/lib/python3.12/site-packages (from jax->dynamaxsys==0.0.5) (1.14.0)\n",
      "\n",
      "\u001b[1m[\u001b[0m\u001b[34;49mnotice\u001b[0m\u001b[1;39;49m]\u001b[0m\u001b[39;49m A new release of pip is available: \u001b[0m\u001b[31;49m24.1.2\u001b[0m\u001b[39;49m -> \u001b[0m\u001b[32;49m25.1.1\u001b[0m\n",
      "\u001b[1m[\u001b[0m\u001b[34;49mnotice\u001b[0m\u001b[1;39;49m]\u001b[0m\u001b[39;49m To update, run: \u001b[0m\u001b[32;49mpip install --upgrade pip\u001b[0m\n"
     ]
    }
   ],
   "source": [
    "!pip install dynamaxsys==0.0.5"
   ]
  },
  {
   "cell_type": "code",
   "execution_count": 2,
   "metadata": {},
   "outputs": [],
   "source": [
    "\n",
    "# in this problem, we will use the dynamaxsys library to import dynamical systems implemented in JAX: https://github.com/UW-CTRL/dynamaxsys\n",
    "from dynamaxsys.unicycle import Unicycle\n",
    "from dynamaxsys.base import get_discrete_time_dynamics\n",
    "from dynamaxsys.utils import linearize\n",
    "\n",
    "import jax\n",
    "import jax.numpy as jnp\n",
    "import matplotlib.pyplot as plt\n",
    "import numpy as np\n",
    "\n",
    "from matplotlib.patches import Ellipse\n",
    "from scipy.stats import chi2\n",
    "\n"
   ]
  },
  {
   "cell_type": "code",
   "execution_count": 3,
   "metadata": {},
   "outputs": [],
   "source": [
    "# some helper functions. No need to change these functions\n",
    "\n",
    "def wrap_to_pi(a):\n",
    "    '''\n",
    "    Wrap angle to [-pi, pi].\n",
    "    '''\n",
    "    return (a + np.pi) % (2 * np.pi) - np.pi\n",
    "\n",
    "def plot_uncertainty_ellipse(ax, mean, cov, confidence=0.95, dim=2, **kwargs):\n",
    "    \"\"\"\n",
    "    Plot an uncertainty ellipse based on the covariance matrix.\n",
    "    \"\"\"\n",
    "    eigenvalues, eigenvectors = np.linalg.eigh(cov)\n",
    "    order = eigenvalues.argsort()[::-1]\n",
    "    eigenvalues, eigenvectors = eigenvalues[order], eigenvectors[:, order]\n",
    "    angle = np.degrees(np.arctan2(*eigenvectors[:, 0][::-1]))\n",
    "    chi2_val = chi2.ppf(confidence, df=dim)\n",
    "    width, height = 2 * np.sqrt(chi2_val * eigenvalues)\n",
    "    ellipse = Ellipse(xy=mean, width=width, height=height, angle=angle, **kwargs)\n",
    "    ax.add_patch(ellipse)"
   ]
  },
  {
   "cell_type": "markdown",
   "metadata": {},
   "source": [
    "### (a) Implement the EKF step"
   ]
  },
  {
   "cell_type": "code",
   "execution_count": 4,
   "metadata": {},
   "outputs": [],
   "source": [
    "# This is the EKF step. \n",
    "# You will need to implement the EKF step in the function below.\n",
    "# The EKF step consists of two main parts: the prediction step and the update step.\n",
    "# In the prediction step, we use the robot dynamics to predict the next state and its covariance.\n",
    "# In the update step, we use the measurement to update the predicted state and covariance.\n",
    "\n",
    "def ekf_step(x, P, u, z, Q, R, dt_robot_dynamics, measurement_model):\n",
    "    \"\"\"\n",
    "    Perform one step of the EKF algorithm.\n",
    "    Inputs:\n",
    "        x: state estimate at time t-1\n",
    "        P: covariance estimate at time t-1\n",
    "        u: control input at time t-1\n",
    "        z: measurement at time t\n",
    "        Q: process noise covariance\n",
    "        R: measurement noise covariance\n",
    "        dt_robot_dynamics: discrete-time robot dynamics function\n",
    "        measurement_model: measurement model function\n",
    "    Outputs:\n",
    "        x_upd: updated state estimate at time t\n",
    "        P_upd: updated covariance estimate at time t    \n",
    "    \"\"\"\n",
    "    t = 0. # time is not used in this example, but a dummy value is needed for the function signature\n",
    "    \n",
    "    # Prediction step\n",
    "    # predict the next state given known robot dynamics\n",
    "    # x_pred = ...\n",
    "    \n",
    "    # predict the next covariance given known robot dynamics\n",
    "    # Compute A matrix \n",
    "    # HINT: use the linearize function from the dynamaxsys package: https://github.com/UW-CTRL/dynamaxsys/blob/main/dynamaxsys/utils.py#L17\n",
    "    # A = ...\n",
    "    # P_pred = ...\n",
    "    \n",
    "    # Update step\n",
    "    # compute innovation (residual)\n",
    "    # h = ...\n",
    "    \n",
    "    # Compute C matrix\n",
    "    # C = ...\n",
    "    \n",
    "    # Compute Kalman gain\n",
    "    # K = ...\n",
    "\n",
    "    # Update the state estimate and covariance\n",
    "    # x_upd = ...\n",
    "    # P_upd = ...\n",
    "\n",
    "    return x, P # UPDATE THIS LINE\n",
    "\n",
    "\n"
   ]
  },
  {
   "cell_type": "markdown",
   "metadata": {},
   "source": [
    "### (b) Set up the rest of the problem parameters and functions"
   ]
  },
  {
   "cell_type": "code",
   "execution_count": 5,
   "metadata": {},
   "outputs": [],
   "source": [
    "# set up robot dynamics \n",
    "# we can use the dynamaxsys library to import the robot dynamics\n",
    "# the robot dynamics is a unicycle model\n",
    "dt = 0.1\n",
    "ct_robot_dynamics = Unicycle() # robot dynamics\n",
    "dt_robot_dynamics = get_discrete_time_dynamics(ct_robot_dynamics, dt=dt) # get discrete time dynamics (uses RK4 integrator)\n",
    "state_dim = dt_robot_dynamics.state_dim"
   ]
  },
  {
   "cell_type": "markdown",
   "metadata": {},
   "source": [
    "#### Set up the robot control function"
   ]
  },
  {
   "cell_type": "code",
   "execution_count": 6,
   "metadata": {},
   "outputs": [],
   "source": [
    "def u_func(t):\n",
    "    '''\n",
    "    Control input function.\n",
    "    This function generates a control input based on the time t.\n",
    "    u = [v, omega]\n",
    "    '''\n",
    "    \n",
    "    ##### FILL IN CODE HERE #####\n",
    "    return jnp.array([0.5, 0.1]) # UPDATE THIS LINE\n",
    "    ##### END OF CODE #####\n",
    "\n",
    "\n"
   ]
  },
  {
   "cell_type": "markdown",
   "metadata": {},
   "source": [
    "### Define the robot measurement model (without noise)"
   ]
  },
  {
   "cell_type": "code",
   "execution_count": 7,
   "metadata": {},
   "outputs": [],
   "source": [
    "obs_dim = 2\n",
    "def measurement_model(state, control, time):\n",
    "    ##### FILL IN CODE HERE #####\n",
    "    return jnp.array([1.0, 1.0]) # UPDATE THIS LINE\n",
    "    ##### END OF CODE #####\n"
   ]
  },
  {
   "cell_type": "markdown",
   "metadata": {},
   "source": [
    "### Define problem matrices and other variables"
   ]
  },
  {
   "cell_type": "code",
   "execution_count": 8,
   "metadata": {},
   "outputs": [],
   "source": [
    "\n",
    "##### FILL IN CODE HERE #####\n",
    "## UPDATE ALL THESE VALUES\n",
    "P0 = jnp.eye(state_dim) # initial state estimate covariance\n",
    "Q = jnp.eye(state_dim) # process noise covariance\n",
    "R = jnp.eye(obs_dim) # measurement noise covariance\n",
    "x0 = jnp.zeros([state_dim]) # true initial state\n"
   ]
  },
  {
   "cell_type": "markdown",
   "metadata": {},
   "source": [
    "### (c) Simulate the episode!"
   ]
  },
  {
   "cell_type": "code",
   "execution_count": 9,
   "metadata": {},
   "outputs": [],
   "source": [
    "n_timesteps = 100 # number of timesteps of run\n",
    "\n",
    "# set up lists to store the state estimates, true states, covariances, measurements, and times\n",
    "xs_est = [x0 + jnp.array([-4.0, 4.0, 0.5])] # initial state\n",
    "xs_true = [x0]\n",
    "Ps = [P0] # initial covariance\n",
    "measurements = []\n",
    "ts = []\n",
    "\n",
    "# seed the random number generator\n",
    "# and sample the process noise and measurement noise\n",
    "key = jax.random.PRNGKey(0)\n",
    "dyn_noise = jax.random.multivariate_normal(key, jnp.zeros(state_dim), Q, shape=(n_timesteps,)) # sample from the process noise\n",
    "measurement_noise = jax.random.multivariate_normal(key, jnp.zeros(obs_dim), R, shape=(n_timesteps,)) # sample from the measurement noise\n",
    "\n",
    "\n",
    "######## TODO: FILL IN CODE BELOW ########\n",
    "# most is commented out so the notebook will run without errors\n",
    "# but you need to uncomment relevant lines and fill in the code\n",
    "\n",
    "\n",
    "# run the EKF algorithm over multiple timesteps\n",
    "for ti in range(n_timesteps):\n",
    "    t = ti * dt # get time\n",
    "    ts.append(t)\n",
    "    \n",
    "    # get the control input\n",
    "    # u = ...  # TODO: UPDATE THIS LINE \n",
    "    \n",
    "    # get the true state with process noise\n",
    "    # x_next_true = ... # TODO: UPDATE THIS LINE\n",
    "    \n",
    "    # wrap the angle to [-pi, pi]\n",
    "    # TODO: uncomment the line below to wrap the angle to [-pi, pi]\n",
    "    # x_next_true = x_next_true.at[2].set(wrap_to_pi(x_next_true[2])) \n",
    "    \n",
    "    # get the measurement with measurement noise\n",
    "    # z = ... # TODO: UPDATE THIS LINE\n",
    "    \n",
    "    # wrap the angle to [-pi, pi]\n",
    "    # TODO: uncomment the line below to wrap the angle to [-pi, pi]\n",
    "    # z = z.at[2].set(wrap_to_pi(z[2]))\n",
    "    \n",
    "    # perform one step of the EKF algorithm\n",
    "    # x, P = ... # TODO: UPDATE THIS LINE\n",
    "    \n",
    "    # wrap the angle to [-pi, pi]\n",
    "    # TODO: uncomment the line below to wrap the angle to [-pi, pi]\n",
    "    # x = x.at[2].set(wrap_to_pi(x[2]))\n",
    "    \n",
    "    # add the new state estimate, true state, covariance, and measurement to the lists\n",
    "    # TODO: uncomment the lines below\n",
    "    # xs_est.append(x)\n",
    "    # xs_true.append(x_next_true)\n",
    "    # measurements.append(z)\n",
    "    # Ps.append(P)\n",
    "\n",
    "\n",
    "# TODO: uncomment the lines below\n",
    "\n",
    "# ts.append(n_timesteps * dt)\n",
    "# xs_est = jnp.stack(xs_est)\n",
    "# xs_true = jnp.stack(xs_true)\n",
    "# measurements = jnp.stack(measurements)\n",
    "# Ps = jnp.stack(Ps)\n",
    "# ts = jnp.array(ts)"
   ]
  },
  {
   "cell_type": "markdown",
   "metadata": {},
   "source": [
    "Plot your results below!\n",
    "Uncomment the plotting code below to see your results!"
   ]
  },
  {
   "cell_type": "code",
   "execution_count": 10,
   "metadata": {},
   "outputs": [],
   "source": [
    "# confidence = 0.95\n",
    "# scale = jnp.sqrt(chi2.ppf(0.95, df=3))\n",
    "\n",
    "# plt.figure(figsize=(9, 8))\n",
    "# plt.subplot(2,2,1)\n",
    "# ax = plt.gca()\n",
    "# plt.plot(xs_true[:, 0], xs_true[:, 1], 'o-', label='True trajectory', color='blue', markersize=3)\n",
    "# plt.plot(xs_est[:, 0], xs_est[:, 1], 'o-', label='Estimated trajectory', color='red', markersize=3)\n",
    "# plt.scatter(xs_true[:, 0], xs_true[:, 1], color='blue', s=10)\n",
    "# plt.scatter(xs_est[:, 0], xs_est[:, 1], color='red', s=10)\n",
    "# plt.scatter(measurements[:, 0], measurements[:, 1], color='green', s=10, label='Measurements')\n",
    "# plt.scatter(xs_est[0, 0], xs_est[0, 1], color='black', s=30, label='Initial state')\n",
    "# plt.scatter(xs_true[0, 0], xs_true[0, 1], color='black', s=30)\n",
    "\n",
    "# plot_uncertainty_ellipse(ax, xs_est[0][:2], Ps[0][:2,:2], confidence=0.95, alpha=0.1, label=\"Uncertainty 95%\")\n",
    "# for (mu, sigma) in zip(xs_est[1:], Ps[1:]):\n",
    "#     plot_uncertainty_ellipse(ax, mu[:2], sigma[:2,:2], confidence=0.95, alpha=0.1)\n",
    "# plt.xlabel('x')\n",
    "# plt.ylabel('y')\n",
    "# plt.title('Trajectory')\n",
    "# plt.legend()\n",
    "# plt.axis('equal')\n",
    "# plt.grid()\n",
    "\n",
    "# plt.subplot(2,2,2)\n",
    "# plt.plot(ts, xs_true[:, 0], label='True x position', color='blue')\n",
    "# plt.plot(ts, xs_est[:, 0], label='Estimated x position', color='red')\n",
    "# plt.scatter(ts[1:], measurements[:, 0], color='green', s=10, label='Measurements')\n",
    "# plt.errorbar(ts, xs_est[:, 0], yerr=scale * jnp.sqrt(Ps[:, 0, 0]), fmt='.', color='red', alpha=0.2, label='Uncertainty 95%')\n",
    "# plt.xlabel('Time')\n",
    "# plt.ylabel('x position (m)')\n",
    "# plt.title('x position')\n",
    "# plt.legend()\n",
    "# plt.grid()\n",
    "\n",
    "# plt.subplot(2,2,3)\n",
    "# plt.plot(ts, xs_true[:, 1], label='True y position', color='blue')\n",
    "# plt.plot(ts, xs_est[:, 1], label='Estimated y position', color='red')\n",
    "# plt.scatter(ts[1:], measurements[:, 1], color='green', s=10, label='Measurements')\n",
    "# plt.errorbar(ts, xs_est[:, 1], yerr=scale * jnp.sqrt(Ps[:, 1, 1]), fmt='.', color='red', alpha=0.2, label='Uncertainty 95%')\n",
    "# plt.xlabel('Time')\n",
    "# plt.ylabel('y position (m)')\n",
    "# plt.title('y position')\n",
    "# plt.legend()\n",
    "# plt.grid()\n",
    "\n",
    "# plt.subplot(2,2,4)\n",
    "# plt.plot(ts, xs_true[:, 2], label='True angle', color='blue')\n",
    "# plt.plot(ts, xs_est[:, 2], label='Estimated angle', color='red')\n",
    "# plt.errorbar(ts, xs_est[:, 2], yerr=scale * jnp.sqrt(Ps[:, 2, 2]), fmt='.', color='red', alpha=0.2, label='Uncertainty 95%')\n",
    "# plt.xlabel('Time')\n",
    "# plt.ylabel('Angle (rad)')\n",
    "# plt.title('heading')\n",
    "# plt.legend()\n",
    "# plt.grid()\n",
    "\n",
    "# plt.tight_layout()\n",
    "# plt.show()"
   ]
  },
  {
   "cell_type": "markdown",
   "metadata": {},
   "source": [
    "## (d) EKF-SLAM\n",
    "The EKF algorithm is not only useful for estimating the state of the robot, but it can also be used to estimate the location of landmarks in the environment. That is, we can use the EKF algorithm estimate both the robot state (i.e., localization) and also estimate a map of its surrounding (i.e., mapping). This is referred to as SLAM--Simultaneous Localization And Mapping.\n",
    "\n",
    "In this problem we will implement a *very simple* SLAM problem by using the above code, but we add one new landmark to the problem whose position we wish to estimate.\n",
    "\n",
    "The core idea is to augment the state vector with the location of the landmark. Essentially treat the landmark location as part of the state, update the measurement model and other matrices accordingly, and then apply the same old EKF algorithm on this augmented problem. \n",
    "\n",
    "(Note: This is a nice example where the algorithm we use is relatively straightforward, but by carefully formulating the problem a certain way, these \"simple\" algorithms can be very powerful!)"
   ]
  },
  {
   "cell_type": "markdown",
   "metadata": {},
   "source": [
    "In addition to the GPS measurements, the robot receives noisy range and bearing measurements from a fixed landmark.\n",
    "Let the landmark position be $\\ell = \\begin{bmatrix} \\ell_x \\\\ \\ell_y \\end{bmatrix}$. Then it receivees a noisy measurement:\n",
    "\n",
    "$$ \\tilde{\\mathbf{y}}_t = \\begin{bmatrix} r \\\\ \\phi \\end{bmatrix} = \\begin{bmatrix} \\sqrt{(\\ell_x - x)^2 + (\\ell_y - y)^2} \\\\ \\arctan2(\\ell_y - y, \\ell_x - x) - \\theta \\end{bmatrix} + \\tilde{\\mathbf{v}}_t, \\quad \\tilde{\\mathbf{v}}_t \\sim \\mathcal{N}(0,\\tilde{R}) $$\n",
    "\n",
    "Note: The above is referring to the `arctan2` function which considers the quadrant when computing the angle."
   ]
  },
  {
   "cell_type": "markdown",
   "metadata": {},
   "source": [
    "We augment the state vector to be $\\begin{bmatrix} x \\\\ y \\\\ \\theta \\\\ \\ell_x \\\\ \\ell_y \\end{bmatrix}$. To spice things up a little, let's assume the landmarks move according to the continuous-time dynamics,\n",
    "\n",
    "$$ \\begin{bmatrix} \\dot{\\ell}_x \\\\ \\dot{\\ell}_y \\end{bmatrix} = \\begin{bmatrix} -\\ell_y \\\\ 0.1\\ell_x \\end{bmatrix}$$"
   ]
  },
  {
   "cell_type": "markdown",
   "metadata": {},
   "source": [
    "#### (d)(i) Define the dynamics for the augmented state"
   ]
  },
  {
   "cell_type": "code",
   "execution_count": 11,
   "metadata": {},
   "outputs": [],
   "source": [
    "from dynamaxsys.base import ControlAffineDynamics\n",
    "\n",
    "# define the continuous time dynamics of the unicycle with landmarks\n",
    "class UnicycleLandmark(ControlAffineDynamics):\n",
    "    \"\"\"\n",
    "    Unicycle dynamics with landmarks.\n",
    "    The state is [x, y, theta, lx, ly], where (lx, ly) are the coordinates of the landmark.\n",
    "    The control input is [v, omega], where v is the linear velocity and omega is the angular velocity.\n",
    "    \n",
    "    The dynamics are given by:\n",
    "    dx/dt = v * cos(theta)\n",
    "    dy/dt = v * sin(theta)\n",
    "    dtheta/dt = omega\n",
    "    dlx/dt = -ly\n",
    "    dly/dt = 0.1 * lx\n",
    "\n",
    "    The dynamics and control affine, and has the following form:\n",
    "    dx/dt = f(x) + g(x) * u\n",
    "    where f(x) is the drift dynamics and g(x) is the control Jacobian.\n",
    "    \"\"\"\n",
    "    \n",
    "    state_dim: int = 5\n",
    "    control_dim: int = 2\n",
    "\n",
    "    def __init__(self):\n",
    "        def drift_dynamics(state, time):\n",
    "            ##### FILL IN CODE HERE #####\n",
    "            return jnp.zeros(self.state_dim) # TODO: UPDATE THIS LINE\n",
    "            ##### END OF CODE #####\n",
    "            \n",
    "            \n",
    "        def control_jacobian(state, time):\n",
    "            ##### FILL IN CODE HERE #####\n",
    "            return jnp.zeros([self.state_dim, self.control_dim]) # TODO: UPDATE THIS LINE\n",
    "            ##### END OF CODE #####\n",
    "\n",
    "        super().__init__(drift_dynamics, control_jacobian, self.state_dim, self.control_dim)\n",
    "        \n",
    "        \n",
    "# compute the discrete time dynamics of the unicycle with landmarks given the continuous time dynamics\n",
    "ct_robot_dynamics = UnicycleLandmark() # robot dynamics\n",
    "dt = 0.1\n",
    "dt_robot_dynamics = get_discrete_time_dynamics(ct_robot_dynamics, dt=dt) # discrete time dynamics\n",
    "state_dim = dt_robot_dynamics.state_dim\n",
    "control_dim = dt_robot_dynamics.control_dim\n"
   ]
  },
  {
   "cell_type": "markdown",
   "metadata": {},
   "source": [
    "#### (d)(ii) Define the measurement model (without noise)"
   ]
  },
  {
   "cell_type": "code",
   "execution_count": 12,
   "metadata": {},
   "outputs": [],
   "source": [
    "obs_dim = 5\n",
    "def measurement_landmark_model(state, control, time):\n",
    "    ##### FILL IN CODE HERE #####\n",
    "    return jnp.array([1.0, 1.0, 1.0, 1.0, 1.0]) # TODO: UPDATE THIS LINE\n",
    "    ##### END OF CODE #####\n"
   ]
  },
  {
   "cell_type": "markdown",
   "metadata": {},
   "source": [
    "#### (d)(iii) Initialize the problem matrices and variables\n",
    "\n",
    "We will use the same noise covariances and initial states as before. \n",
    "But for the landmark, suppose the process noise covariance for the landmark is $\\tilde{Q} = \\mathrm{diag}([0.1, 0.1])$, and the measurement noise covariance is $\\tilde{R} = \\mathrm{diag}([4., 4.])$\n",
    "\n",
    "Let the true initial position of the landmark be $\\begin{bmatrix} \\ell_x^\\mathrm{true}\\\\ \\ell_y^\\mathrm{true}\\end{bmatrix} = \\begin{bmatrix} 5.0 \\\\ 5.0 \\end{bmatrix}$, and the initial estimate be $\\begin{bmatrix} \\ell_x^\\mathrm{est}\\\\ \\ell_y^\\mathrm{est}\\end{bmatrix} \\sim \\mathcal{N}(\\begin{bmatrix} 1.0 \\\\ -1.0 \\end{bmatrix}, \\mathrm{diag}([5., 5.]))$\n",
    "\n"
   ]
  },
  {
   "cell_type": "code",
   "execution_count": 13,
   "metadata": {},
   "outputs": [],
   "source": [
    "##### FILL IN CODE HERE #####\n",
    "# # UPDATE ALL THESE VALUES\n",
    "P0 = jnp.eye(state_dim) # initial state estimate covariance\n",
    "Q = jnp.eye(state_dim) # process noise covariance\n",
    "R = jnp.eye(obs_dim) # measurement noise covariance\n",
    "x0 = jnp.zeros([state_dim]) # true initial state\n"
   ]
  },
  {
   "cell_type": "markdown",
   "metadata": {},
   "source": [
    "#### (d)(iv) Simulate the episode!"
   ]
  },
  {
   "cell_type": "code",
   "execution_count": 14,
   "metadata": {},
   "outputs": [],
   "source": [
    "n_timesteps = 150 # number of timesteps of run\n",
    "\n",
    "# set up lists to store the state estimates, true states, covariances, measurements, and times\n",
    "xs_est = [x0 + jnp.array([-4.0, 4.0, 0.5, 1.0, -1.0])] # initial state\n",
    "xs_true = [x0]\n",
    "Ps = [P0] # initial covariance\n",
    "measurements = []\n",
    "ts = []\n",
    "\n",
    "# seed the random number generator\n",
    "# and sample the process noise and measurement noise\n",
    "key = jax.random.PRNGKey(0)\n",
    "dyn_noise = jax.random.multivariate_normal(key, jnp.zeros(state_dim), Q, shape=(n_timesteps,)) # sample from the process noise\n",
    "measurement_noise = jax.random.multivariate_normal(key, jnp.zeros(obs_dim), R, shape=(n_timesteps,)) # sample from the measurement noise\n",
    "\n",
    "\n",
    "\n",
    "# run the EKF algorithm over multiple timesteps\n",
    "# Use your implementation from (c) but make sure to use the new dynamics and measurement model defined above!\n",
    "\n",
    "\n",
    "######## TODO: FILL IN CODE BELOW ########\n",
    "# most is commented out so the notebook will run without errors\n",
    "# but you need to uncomment relevant lines and fill in the code\n",
    "\n",
    "\n",
    "\n",
    "for ti in range(n_timesteps):\n",
    "    t = ti * dt # get time\n",
    "    ts.append(t)\n",
    "    \n",
    "    # get the control input\n",
    "    # u = ...  # TODO: UPDATE THIS LINE \n",
    "    \n",
    "    # get the true state with process noise\n",
    "    # x_next_true = ... # TODO: UPDATE THIS LINE\n",
    "    \n",
    "    # wrap the angle to [-pi, pi]\n",
    "    # TODO: uncomment the line below to wrap the angle to [-pi, pi]\n",
    "    # x_next_true = x_next_true.at[2].set(wrap_to_pi(x_next_true[2])) \n",
    "    \n",
    "    # get the measurement with measurement noise\n",
    "    # z = ... # TODO: UPDATE THIS LINE\n",
    "    \n",
    "    # wrap the angle to [-pi, pi]\n",
    "    # TODO: uncomment the line below to wrap the angle to [-pi, pi]\n",
    "    # z = z.at[2].set(wrap_to_pi(z[2]))\n",
    "    \n",
    "    # perform one step of the EKF algorithm\n",
    "    # x, P = ... # TODO: UPDATE THIS LINE\n",
    "    \n",
    "    # wrap the angle to [-pi, pi]\n",
    "    # TODO: uncomment the line below to wrap the angle to [-pi, pi]\n",
    "    # x = x.at[2].set(wrap_to_pi(x[2]))\n",
    "    \n",
    "    # add the new state estimate, true state, covariance, and measurement to the lists\n",
    "    # TODO: uncomment the lines below\n",
    "    # xs_est.append(x)\n",
    "    # xs_true.append(x_next_true)\n",
    "    # measurements.append(z)\n",
    "    # Ps.append(P)\n",
    "\n",
    "\n",
    "# TODO: uncomment the lines below\n",
    "\n",
    "# ts.append(n_timesteps * dt)\n",
    "# xs_est = jnp.stack(xs_est)\n",
    "# xs_true = jnp.stack(xs_true)\n",
    "# measurements = jnp.stack(measurements)\n",
    "# Ps = jnp.stack(Ps)\n",
    "# ts = jnp.array(ts)"
   ]
  },
  {
   "cell_type": "markdown",
   "metadata": {},
   "source": [
    "Plot your results below!\n",
    "Uncomment the plotting code below to see your results!"
   ]
  },
  {
   "cell_type": "code",
   "execution_count": 15,
   "metadata": {},
   "outputs": [],
   "source": [
    "# confidence = 0.95\n",
    "# scale = jnp.sqrt(chi2.ppf(0.95, df=5))\n",
    "\n",
    "# plt.figure(figsize=(12, 8))\n",
    "# plt.subplot(2,2,1)\n",
    "# ax = plt.gca()\n",
    "# plt.plot(xs_true[:, 0], xs_true[:, 1], 'o-', label='True trajectory', color='blue', markersize=3)\n",
    "# plt.plot(xs_est[:, 0], xs_est[:, 1], 'o-', label='Estimated trajectory', color='red', markersize=3)\n",
    "# plt.scatter(xs_true[:, 0], xs_true[:, 1], color='blue', s=10)\n",
    "# plt.scatter(xs_est[:, 0], xs_est[:, 1], color='red', s=10)\n",
    "# plt.scatter(measurements[:, 0], measurements[:, 1], color='green', s=10, label='Measurements')\n",
    "# plt.scatter(xs_est[0, 0], xs_est[0, 1], color='black', s=30, label='Initial state')\n",
    "# plt.scatter(xs_true[0, 0], xs_true[0, 1], color='black', s=30)\n",
    "\n",
    "# plot_uncertainty_ellipse(ax, xs_est[0][:2], Ps[0][:2,:2], confidence=0.95, alpha=0.1, label=\"Uncertainty 95%\")\n",
    "# for (mu, sigma) in zip(xs_est[1:], Ps[1:]):\n",
    "#     plot_uncertainty_ellipse(ax, mu[:2], sigma[:2,:2], confidence=0.95, alpha=0.1)\n",
    "# plt.xlabel('x')\n",
    "# plt.ylabel('y')\n",
    "# plt.title('Trajectory')\n",
    "# plt.legend(ncol=2)\n",
    "# plt.axis('equal')\n",
    "# plt.grid()\n",
    "\n",
    "# plt.subplot(2,2,2)\n",
    "# plt.plot(ts, xs_true[:, 0], label='True x position', color='blue')\n",
    "# plt.plot(ts, xs_est[:, 0], label='Estimated x position', color='red')\n",
    "# plt.scatter(ts[1:], measurements[:, 0], color='green', s=10, label='Measurements')\n",
    "# plt.errorbar(ts, xs_est[:, 0], yerr=scale * jnp.sqrt(Ps[:, 0, 0]), fmt='.', color='red', alpha=0.2, label='Uncertainty 95%')\n",
    "# plt.xlabel('Time')\n",
    "# plt.ylabel('x position (m)')\n",
    "# plt.title('x position')\n",
    "# plt.legend()\n",
    "# plt.grid()\n",
    "\n",
    "# plt.subplot(2,2,3)\n",
    "# plt.plot(ts, xs_true[:, 1], label='True y position', color='blue')\n",
    "# plt.plot(ts, xs_est[:, 1], label='Estimated y position', color='red')\n",
    "# plt.scatter(ts[1:], measurements[:, 1], color='green', s=10, label='Measurements')\n",
    "# plt.errorbar(ts, xs_est[:, 1], yerr=scale * jnp.sqrt(Ps[:, 1, 1]), fmt='.', color='red', alpha=0.2, label='Uncertainty 95%')\n",
    "# plt.xlabel('Time')\n",
    "# plt.ylabel('y position (m)')\n",
    "# plt.title('y position')\n",
    "# plt.legend()\n",
    "# plt.grid()\n",
    "\n",
    "# plt.subplot(2,2,4)\n",
    "# plt.plot(ts, xs_true[:, 2], label='True angle', color='blue')\n",
    "# plt.plot(ts, xs_est[:, 2], label='Estimated angle', color='red')\n",
    "# plt.scatter(ts[1:], measurements[:, 2], color='green', s=10, label='Measurements')\n",
    "# plt.errorbar(ts, xs_est[:, 2], yerr=scale * jnp.sqrt(Ps[:, 2, 2]), fmt='.', color='red', alpha=0.2, label='Uncertainty 95%')\n",
    "# plt.xlabel('Time')\n",
    "# plt.ylabel('Angle (rad)')\n",
    "# plt.title('heading')\n",
    "# plt.legend()\n",
    "# plt.grid()\n",
    "\n",
    "# plt.tight_layout()\n",
    "# plt.show()"
   ]
  },
  {
   "cell_type": "code",
   "execution_count": 16,
   "metadata": {},
   "outputs": [],
   "source": [
    "# plt.figure(figsize=(15, 3))\n",
    "# plt.subplot(1,3,1)\n",
    "# ax = plt.gca()\n",
    "# plt.scatter(xs_true[:, 3], xs_true[:, 4], label='True Landmark Location', color='blue', s=20, marker='o')\n",
    "# plt.scatter(xs_est[:, 3], xs_est[:, 4], label='Estimated Landmark Location', color='red', s=20, marker='o')\n",
    "# for (mu, sigma) in zip(xs_est, Ps):\n",
    "#     plot_uncertainty_ellipse(ax, mu[3:], sigma[3:,3:], confidence=0.95, alpha=0.1)\n",
    "# plt.xlabel('Landmark x position (m)')\n",
    "# plt.ylabel('Landmark y position (m)')\n",
    "# plt.title('Landmark Trajectory')\n",
    "# plt.legend()\n",
    "# plt.grid()\n",
    "# plt.axis('equal')\n",
    "\n",
    "# plt.subplot(1,3,2)\n",
    "# plt.plot(ts, xs_true[:, 3], label='True Landmark x position', color='blue')\n",
    "# plt.plot(ts, xs_est[:, 3], label='Estimated Landmark x position', color='red')\n",
    "# plt.errorbar(ts, xs_est[:, 3], yerr=jnp.sqrt(Ps[:, 3, 3]), fmt='.', color='red', alpha=0.2, label='Uncertainty')\n",
    "# plt.xlabel('Time')\n",
    "# plt.ylabel('Landmark x position (m)')\n",
    "# plt.title('Landmark x position')\n",
    "# plt.legend()\n",
    "# plt.grid()\n",
    "\n",
    "# plt.subplot(1,3,3)\n",
    "# plt.plot(ts, xs_true[:, 4], label='True Landmark y position', color='blue')\n",
    "# plt.plot(ts, xs_est[:, 4], label='Estimated Landmark y position', color='red')\n",
    "# plt.errorbar(ts, xs_est[:, 4], yerr=jnp.sqrt(Ps[:, 4, 4]), fmt='.', color='red', alpha=0.2, label='Uncertainty')\n",
    "# plt.xlabel('Time')\n",
    "# plt.ylabel('Landmark y position (m)')\n",
    "# plt.title('Landmark y position')\n",
    "# plt.legend()\n",
    "# plt.grid()\n",
    "# plt.tight_layout()\n",
    "# plt.subplots_adjust(wspace=0.4)\n",
    "# plt.suptitle('Landmark Position Estimation')\n",
    "# plt.subplots_adjust(top=0.85)\n",
    "# plt.show()"
   ]
  },
  {
   "cell_type": "markdown",
   "metadata": {},
   "source": [
    "### (e) Interpret your results\n",
    "This is an open-ended question. Do some exploration and see what kind of results you observed for different values values for $Q$ and $R$. \n",
    "Some questions to consider:\n",
    "- What happens if $Q$ is larger than $R$ and vice versa?\n",
    "- What if the $Q$ and $R$ values you pick for the EKF does not match the true noise covariance of the true system? (i.e., the covariance matrix used to generate the noise differs from your choice of $Q$ and $R$)\n",
    "- The heading is probably not handled in the best way in this problem (wrap_to_pi was applied but this causes a discontinous jump at times). Are there better ways to handle this?\n",
    "- Does the choice of control inputs affect the estimation performance?"
   ]
  },
  {
   "cell_type": "markdown",
   "metadata": {},
   "source": [
    "## Problem 2 (MPC)\n",
    "In this problem, we will reuse HW2 Problem 4 and simulate the system, but now with some noise added so that the system must replan at each time step to adapt to unforseen changes.\n",
    "\n",
    "We set up the problem the same as before. (See HW2 Problem 4 for the details)\n",
    "\n",
    "Below is the code (more or less) copied from HW2 Problem 4."
   ]
  },
  {
   "cell_type": "code",
   "execution_count": 17,
   "metadata": {},
   "outputs": [],
   "source": [
    "\n",
    "import cvxpy as cp # import cvxpy\n",
    "\n",
    "# in this problem, we will use the dynamaxsys library to import dynamical systems implemented in JAX: https://github.com/UW-CTRL/dynamaxsys\n",
    "from dynamaxsys.simplecar import DynamicallyExtendedSimpleCar\n",
    "from dynamaxsys.base import get_discrete_time_dynamics\n",
    "from dynamaxsys.utils import linearize\n",
    "\n",
    "\n",
    "import jax\n",
    "import jax.numpy as jnp\n",
    "import matplotlib.pyplot as plt\n",
    "import numpy as np\n",
    "import functools\n",
    "from ipywidgets import interact\n"
   ]
  },
  {
   "cell_type": "code",
   "execution_count": 18,
   "metadata": {},
   "outputs": [],
   "source": [
    "# define the robot dynamics\n",
    "wheelbase = 1.0\n",
    "dt = 0.1\n",
    "ct_robot_dynamics = DynamicallyExtendedSimpleCar(wheelbase=wheelbase) # robot dynamics\n",
    "dt_robot_dynamics = get_discrete_time_dynamics(ct_robot_dynamics, dt=dt) # discrete time dynamics\n",
    "state_dim = dt_robot_dynamics.state_dim\n",
    "control_dim = dt_robot_dynamics.control_dim\n",
    "\n",
    "\n"
   ]
  },
  {
   "cell_type": "code",
   "execution_count": 19,
   "metadata": {},
   "outputs": [],
   "source": [
    "# set up the problem parameters\n",
    "planning_horizon = 25 # length of the planning horizon\n",
    "num_time_steps = 50 # number of time steps to simulate\n",
    "num_sqp_iterations = 15 # number of SQP iterations\n",
    "t = 0. # this doesn't affect anything, but a value is needed \n",
    "\n",
    "# control and velocity limits\n",
    "v_max = 1.5\n",
    "v_min = 0.\n",
    "acceleration_max = 1.0\n",
    "acceleration_min = -1.0\n",
    "steering_max = 0.5\n",
    "steering_min = -0.5\n",
    "\n",
    "# obstacle parameters\n",
    "obstacle_location = jnp.array([1.0, 0.0]) # obstacle location\n",
    "obstacle_location2 = jnp.array([3.0, -0.5]) # obstacle location\n",
    "obstacle_radius = 0.5 # obstacle radius\n",
    "robot_radius = 0.1 # robot radius\n"
   ]
  },
  {
   "cell_type": "code",
   "execution_count": 20,
   "metadata": {},
   "outputs": [],
   "source": [
    "# some helper functions\n",
    "\n",
    "# define obstacle function g(x) >= 0\n",
    "# where g(x) is the distance from the obstacle\n",
    "@jax.jit\n",
    "def obstacle_constraint(state, obstacle, radius):\n",
    "    return jnp.linalg.norm(state[:2] - obstacle[:2]) - radius\n",
    "\n",
    "# function to simulate the discrete time dynamics given initial state and control sequence\n",
    "@functools.partial(jax.jit, static_argnames=[\"dt_dynamics\"])\n",
    "def simulate_discrete_time_dynamics(dt_dynamics, state, controls, t0, dt):\n",
    "    states = [state]\n",
    "    t = t0\n",
    "    for c in controls:\n",
    "        state = dt_dynamics(state, c, t)\n",
    "        states.append(state)\n",
    "        t += dt\n",
    "    return jnp.stack(states)\n",
    "\n",
    "# function to simulate the discrete time dynamics given initial state and control sequence\n",
    "# function slightly modified to add noise \n",
    "@functools.partial(jax.jit, static_argnames=[\"dt_dynamics\"])\n",
    "def simulate_discrete_time_dynamics_with_noise(dt_dynamics, state, controls, t0, dt, noises):\n",
    "    states = [state]\n",
    "    t = t0\n",
    "    for (c,noise) in zip(controls, noises):\n",
    "        state = dt_robot_dynamics(state, c, t) + noise * dt\n",
    "        states.append(state)\n",
    "        t += dt\n",
    "    return jnp.stack(states, -1)\n",
    "\n",
    "# jit the linearize constraint functions to make it run faster\n",
    "linearize_obstacle = jax.jit(jax.vmap(jax.grad(obstacle_constraint), in_axes=[0, None, None]))"
   ]
  },
  {
   "cell_type": "code",
   "execution_count": 21,
   "metadata": {},
   "outputs": [],
   "source": [
    "# set up cvxpy problem variables and parameters\n",
    "xs = cp.Variable([planning_horizon+1, state_dim])  # cvx variable for states\n",
    "us = cp.Variable([planning_horizon, control_dim])  # cvx variable for controls\n",
    "slack = cp.Variable(1) # slack variable to make sure the problem is feasible\n",
    "As = [cp.Parameter([state_dim, state_dim]) for _ in range(planning_horizon)]  # parameters for linearized dynamics\n",
    "Bs = [cp.Parameter([state_dim, control_dim]) for _ in range(planning_horizon)] # parameters for linearized dynamics\n",
    "Cs = [cp.Parameter([state_dim]) for _ in range(planning_horizon)] # parameters for linearized dynamics\n",
    "\n",
    "Gs = [cp.Parameter([state_dim]) for _ in range(planning_horizon+1)] # parameters for linearized constraints\n",
    "hs = [cp.Parameter(1) for _ in range(planning_horizon+1)] # parameters for linearized constraints\n",
    "Gs2 = [cp.Parameter([state_dim]) for _ in range(planning_horizon+1)] # parameters for linearized constraints\n",
    "hs2 = [cp.Parameter(1) for _ in range(planning_horizon+1)] # parameters for linearized constraints\n",
    "\n",
    "xs_previous = cp.Parameter([planning_horizon+1, state_dim]) # parameter for previous solution\n",
    "us_previous = cp.Parameter([planning_horizon, control_dim]) # parameter for previous solution\n",
    "initial_state = cp.Parameter([state_dim]) # parameter for current robot state"
   ]
  },
  {
   "cell_type": "code",
   "execution_count": 22,
   "metadata": {},
   "outputs": [],
   "source": [
    "# set up cvxpy problem cost and constraints\n",
    "beta1 = 0.2 # coefficient for control effort\n",
    "beta2 = 5. # coefficient for progress\n",
    "beta3 = 10. # coefficient for trust region\n",
    "slack_penalty = 1000. # coefficient for slack variable\n",
    "markup = 1.0\n",
    "\n",
    "objective = beta2 * (xs[-1,2]**2 + xs[-1,1]**2 - xs[-1,0]) + beta3 * (cp.sum_squares(xs - xs_previous) + cp.sum_squares(us - us_previous)) + slack_penalty * slack**2\n",
    "constraints = [xs[0] == initial_state, slack >= 0] # initial state and slack constraint\n",
    "for t in range(planning_horizon):\n",
    "    objective += (beta1 * cp.sum_squares(us[t]) + beta1 * (xs[t,2]**2 + xs[t,1]**2 - xs[t,0]) ) * markup**t\n",
    "    constraints += [xs[t+1] == As[t] @ xs[t] + Bs[t] @ us[t] + Cs[t]] # dynamics constraint\n",
    "    constraints += [xs[t,-1] <= v_max, xs[t,-1] >= v_min, us[t,1] <= acceleration_max, us[t,1] >= acceleration_min, us[t,0] <= steering_max, us[t,0] >= steering_min] # control and velocity limit constraints\n",
    "    constraints += [Gs[t] @ xs[t] + hs[t] >= -slack, Gs2[t] @ xs[t] + hs2[t] >= -slack] # linearized collision avoidance constraint\n",
    "constraints += [xs[planning_horizon,-1] <= v_max, xs[planning_horizon,-1] >= v_min, Gs[planning_horizon] @ xs[planning_horizon] + hs[planning_horizon] >= -slack, Gs2[planning_horizon] @ xs[planning_horizon] + hs2[planning_horizon] >= -slack] # constraints for last planning horizon step\n",
    "prob = cp.Problem(cp.Minimize(objective), constraints) # construct problem\n",
    "  "
   ]
  },
  {
   "cell_type": "code",
   "execution_count": 23,
   "metadata": {},
   "outputs": [],
   "source": [
    "# initial states\n",
    "robot_state = jnp.array([-1.5, -0.5, 0., 1.])  # robot starting state\n",
    "robot_trajectory = [robot_state] # list to collect robot's state as it replans\n",
    "sqp_list = [] # list to collect each sqp iteration \n",
    "robot_control_list = []  # list to collect robot's constrols as it replans\n",
    "robot_trajectory_list = [] # list to collect robot's planned trajectories\n",
    "\n",
    "# initial robot planned state and controls\n",
    "previous_controls = jnp.zeros([planning_horizon, control_dim]) # initial guess for robot controls\n",
    "previous_states =  simulate_discrete_time_dynamics(dt_robot_dynamics, robot_state, previous_controls, 0., dt) # initial guess for robot states\n",
    "xs_previous.value = np.array(previous_states) # set xs_previous parameter value\n",
    "us_previous.value = np.array(previous_controls) # set us_previous parameter value "
   ]
  },
  {
   "cell_type": "markdown",
   "metadata": {},
   "source": [
    "### (a) Using open-loop solution\n",
    "Let's compute the open-loop solution for the first time step. Read the next few cells and answer the question at the end.\n",
    "\n",
    "(Just run the cell below)"
   ]
  },
  {
   "cell_type": "code",
   "execution_count": 24,
   "metadata": {},
   "outputs": [],
   "source": [
    "initial_state.value = np.array(robot_state)\n",
    "solver = cp.CLARABEL\n",
    "\n",
    "\n",
    "for i in range(num_sqp_iterations):\n",
    "    As_value, Bs_value, Cs_value = jax.vmap(linearize, in_axes=[None, 0, 0, None])(dt_robot_dynamics, previous_states[:-1], previous_controls, 0.)\n",
    "    Gs_value = linearize_obstacle(previous_states, obstacle_location, obstacle_radius + robot_radius) \n",
    "    hs_value = jax.vmap(obstacle_constraint, [0, None, None])(previous_states, obstacle_location, obstacle_radius + robot_radius) - jax.vmap(jnp.dot, [0, 0])(Gs_value, previous_states)\n",
    "    Gs2_value = linearize_obstacle(previous_states, obstacle_location2, obstacle_radius + robot_radius) \n",
    "    hs2_value = jax.vmap(obstacle_constraint, [0, None, None])(previous_states, obstacle_location2, obstacle_radius + robot_radius) - jax.vmap(jnp.dot, [0, 0])(Gs2_value, previous_states)\n",
    "\n",
    "    for i in range(planning_horizon):\n",
    "        As[i].value = np.array(As_value[i])\n",
    "        Bs[i].value = np.array(Bs_value[i])\n",
    "        Cs[i].value = np.array(Cs_value[i])\n",
    "        Gs[i].value = np.array(Gs_value[i])\n",
    "        hs[i].value = np.array(hs_value[i:i+1])\n",
    "        Gs2[i].value = np.array(Gs2_value[i])\n",
    "        hs2[i].value = np.array(hs2_value[i:i+1])\n",
    "    Gs[planning_horizon].value = np.array(Gs_value[planning_horizon])\n",
    "    hs[planning_horizon].value = np.array(hs_value[planning_horizon:planning_horizon+1])\n",
    "    Gs2[planning_horizon].value = np.array(Gs2_value[planning_horizon])\n",
    "    hs2[planning_horizon].value = np.array(hs2_value[planning_horizon:planning_horizon+1])\n",
    "    \n",
    "    result = prob.solve(solver=solver)\n",
    "open_controls = us.value\n",
    "    \n"
   ]
  },
  {
   "cell_type": "markdown",
   "metadata": {},
   "source": [
    "Fix a covariance matrix to model the process noise, and precompute the noise\n",
    "\n",
    "(Just run the cell below)"
   ]
  },
  {
   "cell_type": "code",
   "execution_count": 25,
   "metadata": {},
   "outputs": [],
   "source": [
    "key = jax.random.PRNGKey(0)\n",
    "n_samples = 64\n",
    "noise_covar = jnp.diag(jnp.array([0.1, 0.1, 0.05, 0.2])) # noise covariance\n",
    "\n",
    "noises = jax.random.multivariate_normal(key, jnp.zeros(robot_state.shape), noise_covar, shape=(n_samples, open_controls.shape[0]))"
   ]
  },
  {
   "cell_type": "markdown",
   "metadata": {},
   "source": [
    "Simulate the dynamics with noise, and without noise\n",
    "\n",
    "(Just run the cell below)\n",
    "\n",
    "(Note: `jax.vmap` is becoming handy here!)"
   ]
  },
  {
   "cell_type": "code",
   "execution_count": 26,
   "metadata": {},
   "outputs": [],
   "source": [
    "noisy_states = jnp.permute_dims(jax.vmap(simulate_discrete_time_dynamics_with_noise, in_axes=[None, None, None, None, None, 0])(dt_robot_dynamics, robot_state, open_controls, 0., dt, noises), (0, 2, 1))\n",
    "perfect_states = simulate_discrete_time_dynamics(dt_robot_dynamics, robot_state, open_controls, 0., dt)"
   ]
  },
  {
   "cell_type": "markdown",
   "metadata": {},
   "source": [
    "Plot the trajectories\n",
    "\n",
    "(Just run the cell below)"
   ]
  },
  {
   "cell_type": "code",
   "execution_count": 27,
   "metadata": {},
   "outputs": [
    {
     "data": {
      "image/png": "[encoded data removed]",
      "text/plain": [
       "<Figure size 800x400 with 1 Axes>"
      ]
     },
     "metadata": {},
     "output_type": "display_data"
    }
   ],
   "source": [
    "fig, ax = plt.subplots(figsize=(8, 4))\n",
    "robot_position = noisy_states[i, :2]\n",
    "circle2 = plt.Circle(obstacle_location, obstacle_radius, color='C1', alpha=0.4)\n",
    "circle3 = plt.Circle(obstacle_location2, obstacle_radius, color='C1', alpha=0.4)\n",
    "ax.add_patch(circle2)\n",
    "ax.add_patch(circle3)\n",
    "ax.plot(noisy_states[:,:,0].T, noisy_states[:,:,1].T, \"o-\", markersize=3, color='black', alpha=0.1)\n",
    "ax.plot(noisy_states[0,:,0].T, noisy_states[0,:,1].T, \"o-\", markersize=3, color='black', alpha=0.1, label='Noisy trajectories')\n",
    "ax.plot(perfect_states[:,0], perfect_states[:,1], \"o-\", markersize=3, color='C0', label='Perfect trajectory')\n",
    "\n",
    "ax.set_title(\"Simulated trajectories with and without noise. At first timestep t=0.\")\n",
    "ax.set_xlabel(\"x position (m)\")\n",
    "ax.set_ylabel(\"y position (m)\")\n",
    "ax.set_xlim([-2, 7])\n",
    "ax.grid()\n",
    "ax.legend()\n",
    "ax.axis(\"equal\")\n",
    "plt.show()\n"
   ]
  },
  {
   "cell_type": "markdown",
   "metadata": {},
   "source": [
    "### Comment on what would happen if the robot just executed this open-loop control sequence."
   ]
  },
  {
   "cell_type": "markdown",
   "metadata": {},
   "source": [
    "Your response here..."
   ]
  },
  {
   "cell_type": "markdown",
   "metadata": {},
   "source": [
    "### (b) Replan at each timestep!\n",
    "Hopefully you saw from above the need to replan at each time step.\n",
    "Run the following cells and answer the question at the end.\n",
    "\n",
    "(Just run the cell below)\n"
   ]
  },
  {
   "cell_type": "code",
   "execution_count": 28,
   "metadata": {},
   "outputs": [],
   "source": [
    "# initial states\n",
    "robot_state = jnp.array([-1.5, -0.5, 0., 1.])  # robot starting state\n",
    "robot_trajectory = [robot_state] # list to collect robot's state as it replans\n",
    "sqp_list = [] # list to collect each sqp iteration \n",
    "robot_control_list = []  # list to collect robot's constrols as it replans\n",
    "robot_trajectory_list = [] # list to collect robot's planned trajectories\n",
    "\n",
    "# initial robot planned state and controls\n",
    "previous_controls = jnp.zeros([planning_horizon, control_dim]) # initial guess for robot controls\n",
    "previous_states =  simulate_discrete_time_dynamics(dt_robot_dynamics, robot_state, previous_controls, 0., dt) # initial guess for robot states\n",
    "xs_previous.value = np.array(previous_states) # set xs_previous parameter value\n",
    "us_previous.value = np.array(previous_controls) # set us_previous parameter value \n",
    "\n",
    "# precompute the noise\n",
    "key = jax.random.PRNGKey(0)\n",
    "noise_covar = jnp.diag(jnp.array([0.1, 0.1, 0.05, 0.2])) # noise covariance\n",
    "noises = jax.random.multivariate_normal(key, jnp.zeros(robot_state.shape), noise_covar, shape=(num_time_steps,))"
   ]
  },
  {
   "cell_type": "markdown",
   "metadata": {},
   "source": [
    "Rerun the simulation, replanning at each time step, and adding some noise when computing the robot's next state.\n",
    "\n",
    "(Just run the cell below)\n"
   ]
  },
  {
   "cell_type": "code",
   "execution_count": 29,
   "metadata": {},
   "outputs": [],
   "source": [
    "solver = cp.CLARABEL\n",
    "\n",
    "for t in range(num_time_steps):\n",
    "    initial_state.value = np.array(robot_state)\n",
    "    sqp_solutions = [previous_states]\n",
    "    \n",
    "    for i in range(num_sqp_iterations):\n",
    "        As_value, Bs_value, Cs_value = jax.vmap(linearize, in_axes=[None, 0, 0, None])(dt_robot_dynamics, previous_states[:-1], previous_controls, 0.)\n",
    "        Gs_value = linearize_obstacle(previous_states, obstacle_location, obstacle_radius + robot_radius) \n",
    "        hs_value = jax.vmap(obstacle_constraint, [0, None, None])(previous_states, obstacle_location, obstacle_radius + robot_radius) - jax.vmap(jnp.dot, [0, 0])(Gs_value, previous_states)\n",
    "        Gs2_value = linearize_obstacle(previous_states, obstacle_location2, obstacle_radius + robot_radius) \n",
    "        hs2_value = jax.vmap(obstacle_constraint, [0, None, None])(previous_states, obstacle_location2, obstacle_radius + robot_radius) - jax.vmap(jnp.dot, [0, 0])(Gs2_value, previous_states)\n",
    "\n",
    "        for i in range(planning_horizon):\n",
    "            As[i].value = np.array(As_value[i])\n",
    "            Bs[i].value = np.array(Bs_value[i])\n",
    "            Cs[i].value = np.array(Cs_value[i])\n",
    "            Gs[i].value = np.array(Gs_value[i])\n",
    "            hs[i].value = np.array(hs_value[i:i+1])\n",
    "            Gs2[i].value = np.array(Gs2_value[i])\n",
    "            hs2[i].value = np.array(hs2_value[i:i+1])\n",
    "        Gs[planning_horizon].value = np.array(Gs_value[planning_horizon])\n",
    "        hs[planning_horizon].value = np.array(hs_value[planning_horizon:planning_horizon+1])\n",
    "        Gs2[planning_horizon].value = np.array(Gs2_value[planning_horizon])\n",
    "        hs2[planning_horizon].value = np.array(hs2_value[planning_horizon:planning_horizon+1])\n",
    "        \n",
    "        result = prob.solve(solver=solver)\n",
    "\n",
    "        \n",
    "        if us.value is None:\n",
    "            print(\"No solution found\")\n",
    "            break\n",
    "        previous_controls = us.value\n",
    "        previous_states =  simulate_discrete_time_dynamics(dt_robot_dynamics, robot_state, previous_controls, 0., dt)\n",
    "        sqp_solutions.append(previous_states)\n",
    "        xs_previous.value = np.array(previous_states)\n",
    "        us_previous.value = np.array(previous_controls)\n",
    "    sqp_list.append(np.stack(sqp_solutions))\n",
    "    robot_control = previous_controls[0]\n",
    "    robot_control_list.append(robot_control)\n",
    "    \n",
    "    # get the robot next state using the control input\n",
    "    robot_state = dt_robot_dynamics(robot_state, robot_control, 0.) + noises[t] * dt\n",
    "    \n",
    "    # clipping the robot velocity so the problem doesn't become infeasible at the next step\n",
    "    robot_state = robot_state.at[3].set(jnp.clip(robot_state[3], v_min, v_max)) \n",
    "    \n",
    "    # add robot state and trajectory to the list\n",
    "    robot_trajectory.append(robot_state)\n",
    "    robot_trajectory_list.append(previous_states)\n",
    "    \n",
    "    # update the previous states and controls for the next iteration\n",
    "    previous_states =  simulate_discrete_time_dynamics(dt_robot_dynamics, robot_state, previous_controls, 0., dt)\n",
    "    \n",
    "robot_trajectory = jnp.stack(robot_trajectory)\n",
    "robot_controls = jnp.stack(robot_control_list)"
   ]
  },
  {
   "cell_type": "markdown",
   "metadata": {},
   "source": [
    "Visualize the results!\n",
    "\n",
    "(Just run the cell below)\n"
   ]
  },
  {
   "cell_type": "code",
   "execution_count": 30,
   "metadata": {},
   "outputs": [
    {
     "data": {
      "application/vnd.jupyter.widget-view+json": {
       "model_id": "260a88913f2f473aa684dd9445d5ea49",
       "version_major": 2,
       "version_minor": 0
      },
      "text/plain": [
       "interactive(children=(IntSlider(value=24, description='i', max=49), IntSlider(value=7, description='j', max=14…"
      ]
     },
     "metadata": {},
     "output_type": "display_data"
    }
   ],
   "source": [
    "# plotting the results. No need to add comments here. Just run this cell to visualize the results\n",
    "@interact(i=(0,num_time_steps-1), j=(0,num_sqp_iterations-1))\n",
    "def plot(i, j):\n",
    "    fig, axs = plt.subplots(1, 2, figsize=(12, 4), gridspec_kw={'width_ratios': [2, 1]})\n",
    "    # fig, axs = plt.subplots(1,2, figsize=(10, 4))\n",
    "    ax = axs[0]\n",
    "    robot_position = robot_trajectory[i, :2]\n",
    "    circle1 = plt.Circle(robot_position, robot_radius, color='C0', alpha=0.4)\n",
    "    circle2 = plt.Circle(obstacle_location, obstacle_radius, color='C1', alpha=0.4)\n",
    "    circle3 = plt.Circle(obstacle_location2, obstacle_radius, color='C1', alpha=0.4)\n",
    "    ax.add_patch(circle1)\n",
    "    ax.add_patch(circle2)\n",
    "    ax.add_patch(circle3)\n",
    "    ax.plot(robot_trajectory[:,0], robot_trajectory[:,1], \"o-\", markersize=3, color='black')\n",
    "    ax.plot(robot_trajectory_list[i][:,0], robot_trajectory_list[i][:,1], \"o-\", markersize=3, color='red', label=\"Planned\")\n",
    "    # Plot planned trajectory for the selected SQP iteration\n",
    "    planned_trajectory = sqp_list[i][j]\n",
    "    ax.plot(planned_trajectory[:, 0], planned_trajectory[:, 1], \"o-\", markersize=3, color='green', alpha=0.4, label=\"SQP iteration %d\" % j)\n",
    "    ax.scatter(robot_trajectory[i:i+1,0], robot_trajectory[i:i+1,1], s=30,  color='C0', label=\"Robot\")\n",
    "    ax.set_xlim([-2, 7])\n",
    "    ax.grid()\n",
    "    ax.legend()\n",
    "    ax.axis(\"equal\")\n",
    "\n",
    "    ax.set_title(\"heading=%.2f velocity=%.2f\"%(robot_trajectory[i,2], robot_trajectory[i,3]))\n",
    "    \n",
    "    ax = axs[1]\n",
    "    ax.plot(robot_controls)\n",
    "    ax.scatter([i], robot_controls[i:i+1, 0], label=\"$tan(\\\\delta)$\", color='C0')\n",
    "    ax.scatter([i], robot_controls[i:i+1, 1], label=\"Acceleration\", color='C1')\n",
    "\n",
    "    ax.hlines(steering_min, 0, num_time_steps-1, color='C0', linestyle='--')\n",
    "    ax.hlines(steering_max, 0, num_time_steps-1, color='C0', linestyle='--')\n",
    "    ax.hlines(acceleration_min, 0, num_time_steps-1, color='C1', linestyle='--')\n",
    "    ax.hlines(acceleration_max, 0, num_time_steps-1, color='C1', linestyle='--')\n",
    "    \n",
    "    ax.plot(robot_trajectory[:,-1], markersize=3, color='C2')\n",
    "    ax.scatter([i], robot_trajectory[i:i+1, 3], label=\"Velocity\", color='C2')\n",
    "    ax.hlines(v_min, 0, num_time_steps-1, color='C2', linestyle='--')\n",
    "    ax.hlines(v_max, 0, num_time_steps-1, color='C2', linestyle='--')\n",
    "    ax.set_xlim([0, num_time_steps])\n",
    "    ax.set_ylim([-2, 2])\n",
    "    ax.set_xlabel(\"Time step\")\n",
    "    ax.set_ylabel(\"Control\")\n",
    "    ax.set_title(\"Velocity, steering and acceleration\")\n",
    "    ax.legend()\n",
    "    ax.grid()"
   ]
  },
  {
   "cell_type": "markdown",
   "metadata": {},
   "source": [
    "Is it guaranteed that your system will not hit the obstacle if we just apply MPC in the way we did above?\n",
    "If not, what are some techniques you could try to reduce the risk of colliding into the obstacles?\n",
    "\n",
    "(Optional) What if the obstacles were not stationary. But rather, they were moving. How would the problem change if the obstacle's motion were fully known (e.g., we knew exactly where the obstacle would be at any point in time), or if the obstacle's motion was uncertain (e.g., the obstacles were pedestrians, or space debris whose motion is not fully known). What are some techniques that could be applied to reduce the risk of collision?"
   ]
  },
  {
   "cell_type": "markdown",
   "metadata": {},
   "source": []
  }
 ],
 "metadata": {
  "kernelspec": {
   "display_name": "test",
   "language": "python",
   "name": "python3"
  },
  "language_info": {
   "codemirror_mode": {
    "name": "ipython",
    "version": 3
   },
   "file_extension": ".py",
   "mimetype": "text/x-python",
   "name": "python",
   "nbconvert_exporter": "python",
   "pygments_lexer": "ipython3",
   "version": "3.12.9"
  }
 },
 "nbformat": 4,
 "nbformat_minor": 2
}
